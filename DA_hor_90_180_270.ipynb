{
 "cells": [
  {
   "cell_type": "code",
   "execution_count": 1,
   "metadata": {},
   "outputs": [],
   "source": [
    "#dividir dataset em treino e teste aplicar DA em imagens de treino\n",
    "\n",
    "import xml.etree.ElementTree as ET #manipular xml\n",
    "import numpy as np \n",
    "from pascal_voc_writer import Writer\n",
    "import cv2\n",
    "import glob\n",
    "import random\n",
    "from shutil import copyfile\n",
    "import os\n",
    "from pascal_voc_writer import Writer #escrever formato pascal voc"
   ]
  },
  {
   "cell_type": "code",
   "execution_count": 2,
   "metadata": {},
   "outputs": [],
   "source": [
    "#funcao para ler xml\n",
    "def read_content(xml_file: str):\n",
    "\n",
    "    tree = ET.parse(xml_file)\n",
    "    root = tree.getroot()\n",
    "\n",
    "    list_with_all_boxes = []\n",
    "    list_with_all_classes = []\n",
    "\n",
    "    for boxes in root.iter('object'):\n",
    "\n",
    "        filename = root.find('filename').text\n",
    "        list_with_all_classes.append(boxes.find('name').text)\n",
    "\n",
    "        ymin, xmin, ymax, xmax = None, None, None, None\n",
    "\n",
    "        for box in boxes.findall(\"bndbox\"):\n",
    "            ymin = int(box.find(\"ymin\").text)\n",
    "            xmin = int(box.find(\"xmin\").text)\n",
    "            ymax = int(box.find(\"ymax\").text)\n",
    "            xmax = int(box.find(\"xmax\").text)\n",
    "\n",
    "        list_with_single_boxes = [xmin, ymin, xmax, ymax]\n",
    "        list_with_all_boxes.append(list_with_single_boxes)\n",
    "\n",
    "    return filename, list_with_all_boxes, list_with_all_classes"
   ]
  },
  {
   "cell_type": "code",
   "execution_count": 46,
   "metadata": {},
   "outputs": [],
   "source": [
    "imagens_pasta = glob.glob(\"Schisto 1024x1024/*.jpg\")\n",
    "xml_pasta = glob.glob(\"Schisto 1024x1024/*.xml\")\n",
    "\n",
    "#criar 5 datasets dividindo em treino e teste\n",
    "#colocar quantidade de imagens\n",
    "qut_img = 31\n",
    "\n",
    "dataset1 = list(range(1,qut_img+1))\n",
    "random.shuffle(dataset1)\n",
    "dataset2 = list(range(1,qut_img+1))\n",
    "random.shuffle(dataset2)\n",
    "dataset3 = list(range(1,qut_img+1))\n",
    "random.shuffle(dataset3)\n",
    "dataset4 = list(range(1,qut_img+1))\n",
    "random.shuffle(dataset4)\n",
    "dataset5 = list(range(1,qut_img+1))\n",
    "random.shuffle(dataset5)"
   ]
  },
  {
   "cell_type": "code",
   "execution_count": 47,
   "metadata": {},
   "outputs": [],
   "source": [
    "#criar 5 pastas de \"datasetX\" e dentro de cada pasta de train e test\n",
    "!mkdir dataset1\\train\n",
    "!mkdir dataset1\\test\n",
    "!mkdir dataset2\\train\n",
    "!mkdir dataset2\\test\n",
    "!mkdir dataset3\\train\n",
    "!mkdir dataset3\\test\n",
    "!mkdir dataset4\\train\n",
    "!mkdir dataset4\\test\n",
    "!mkdir dataset5\\train\n",
    "!mkdir dataset5\\test"
   ]
  },
  {
   "cell_type": "code",
   "execution_count": 48,
   "metadata": {},
   "outputs": [
    {
     "ename": "IndexError",
     "evalue": "list index out of range",
     "output_type": "error",
     "traceback": [
      "\u001b[1;31m---------------------------------------------------------------------------\u001b[0m",
      "\u001b[1;31mIndexError\u001b[0m                                Traceback (most recent call last)",
      "\u001b[1;32m<ipython-input-48-98c668a89dd6>\u001b[0m in \u001b[0;36m<module>\u001b[1;34m\u001b[0m\n\u001b[0;32m      1\u001b[0m \u001b[1;31m#verificar nome para remover\u001b[0m\u001b[1;33m\u001b[0m\u001b[1;33m\u001b[0m\u001b[1;33m\u001b[0m\u001b[0m\n\u001b[1;32m----> 2\u001b[1;33m \u001b[0mprint\u001b[0m\u001b[1;33m(\u001b[0m\u001b[0mimagens_pasta\u001b[0m\u001b[1;33m[\u001b[0m\u001b[0mdatasetGenerico\u001b[0m\u001b[1;33m[\u001b[0m\u001b[0mi\u001b[0m\u001b[1;33m]\u001b[0m\u001b[1;33m-\u001b[0m\u001b[1;36m1\u001b[0m\u001b[1;33m]\u001b[0m\u001b[1;33m)\u001b[0m\u001b[1;33m\u001b[0m\u001b[1;33m\u001b[0m\u001b[0m\n\u001b[0m\u001b[0;32m      3\u001b[0m \u001b[0mprint\u001b[0m\u001b[1;33m(\u001b[0m\u001b[0mimagens_pasta\u001b[0m\u001b[1;33m[\u001b[0m\u001b[0mdatasetGenerico\u001b[0m\u001b[1;33m[\u001b[0m\u001b[0mi\u001b[0m\u001b[1;33m]\u001b[0m\u001b[1;33m-\u001b[0m\u001b[1;36m1\u001b[0m\u001b[1;33m]\u001b[0m\u001b[1;33m[\u001b[0m\u001b[1;36m18\u001b[0m\u001b[1;33m:\u001b[0m\u001b[1;33m]\u001b[0m\u001b[1;33m)\u001b[0m\u001b[1;33m\u001b[0m\u001b[1;33m\u001b[0m\u001b[0m\n",
      "\u001b[1;31mIndexError\u001b[0m: list index out of range"
     ]
    }
   ],
   "source": [
    "#verificar nome para remover\n",
    "print(imagens_pasta[datasetGenerico[i]-1])\n",
    "print(imagens_pasta[datasetGenerico[i]-1][18:])"
   ]
  },
  {
   "cell_type": "code",
   "execution_count": 53,
   "metadata": {},
   "outputs": [],
   "source": [
    "#mudar nome do dataset e executar\n",
    "#verificar ate quanto vai o train e test\n",
    "\n",
    "datasetGenerico = dataset5 #dataset1 dataset2 dataset3 dataset4 dataset5\n",
    "name_datasetGenerico = 'dataset5' #dataset1 dataset2 dataset3 dataset4 dataset5\n",
    "\n",
    "for i in range(len(imagens_pasta)):\n",
    "    img = imagens_pasta[datasetGenerico[i]-1]\n",
    "    xml = xml_pasta[datasetGenerico[i]-1]\n",
    "    if(i<24):\n",
    "        #fiz gambiarra valendo so para nome \"schistosoma\"\n",
    "        copyfile(img, name_datasetGenerico+\"/train/\"+img[18:])\n",
    "        copyfile(xml, name_datasetGenerico+\"/train/\"+xml[18:])\n",
    "    else:\n",
    "        copyfile(img, name_datasetGenerico+\"/test/\"+img[18:])\n",
    "        copyfile(xml, name_datasetGenerico+\"/test/\"+xml[18:])"
   ]
  },
  {
   "cell_type": "code",
   "execution_count": 54,
   "metadata": {},
   "outputs": [
    {
     "data": {
      "text/plain": [
       "31"
      ]
     },
     "execution_count": 54,
     "metadata": {},
     "output_type": "execute_result"
    }
   ],
   "source": [
    "len(dataset1)"
   ]
  },
  {
   "cell_type": "code",
   "execution_count": 3,
   "metadata": {},
   "outputs": [
    {
     "ename": "SyntaxError",
     "evalue": "invalid syntax (<ipython-input-3-1d18838973d0>, line 12)",
     "output_type": "error",
     "traceback": [
      "\u001b[1;36m  File \u001b[1;32m\"<ipython-input-3-1d18838973d0>\"\u001b[1;36m, line \u001b[1;32m12\u001b[0m\n\u001b[1;33m    writer.addObject(classe[i], int(boxes[i,0])+, int(boxes[i,1]),\u001b[0m\n\u001b[1;37m                                                ^\u001b[0m\n\u001b[1;31mSyntaxError\u001b[0m\u001b[1;31m:\u001b[0m invalid syntax\n"
     ]
    }
   ],
   "source": [
    "name_datasetGenerico = 'teste' #dataset1 dataset2 dataset3 dataset4 dataset5\n",
    "\n",
    "name, boxes, classe = read_content(name_datasetGenerico+\"/train/teste.xml\")\n",
    "boxes = np.asarray(boxes)\n",
    "img = cv2.imread(name_datasetGenerico+\"/train/teste.JPG\")[:,:,::-1] \n",
    "\n",
    "# rotacionar 90\n",
    "img_90 = cv2.rotate(img, cv2.ROTATE_90_CLOCKWISE)\n",
    "cv2.imwrite(name_datasetGenerico+\"/train/\"+os.path.splitext(name)[0]+'_90'+'.jpg', img_90) # salvar jpg na pasta\n",
    "writer = Writer(nameNew, imgNew.shape[0], imgNew.shape[1])\n",
    "for i in range(np.asarray(boxes).shape[0]):\n",
    "        writer.addObject(classe[i], int(boxes[i,0])+, int(boxes[i,1]),\n",
    "                        int(boxes[i,2]), int(boxes[i,3]))\n",
    "\n",
    "writer.save(name_datasetGenerico+\"/train/\"+os.path.splitext(name)[0]+'_90'+'.xml')"
   ]
  },
  {
   "cell_type": "code",
   "execution_count": 203,
   "metadata": {},
   "outputs": [
    {
     "data": {
      "text/plain": [
       "973"
      ]
     },
     "execution_count": 203,
     "metadata": {},
     "output_type": "execute_result"
    }
   ],
   "source": [
    "boxes[0,0]"
   ]
  },
  {
   "cell_type": "code",
   "execution_count": 16,
   "metadata": {},
   "outputs": [
    {
     "name": "stdout",
     "output_type": "stream",
     "text": [
      "Schistosoma 50 50 70 100\n",
      "Schistosoma 130 130 200 150\n"
     ]
    }
   ],
   "source": [
    "name_datasetGenerico = 'teste' #dataset1 dataset2 dataset3 dataset4 dataset5\n",
    "\n",
    "name, boxes, classe = read_content(name_datasetGenerico+\"/train/teste2.xml\")\n",
    "boxes = np.asarray(boxes)\n",
    "img = cv2.imread(name_datasetGenerico+\"/train/teste2.JPG\")[:,:,::-1] \n",
    "\n",
    "# rotacionar 90\n",
    "img_90 = cv2.rotate(img, cv2.ROTATE_90_CLOCKWISE)\n",
    "#cv2.imwrite(name_datasetGenerico+\"/train/\"+os.path.splitext(name)[0]+'_90'+'.jpg', img_90) # salvar jpg na pasta\n",
    "#writer = Writer(nameNew, imgNew.shape[0], imgNew.shape[1])\n",
    "for i in range(np.asarray(boxes).shape[0]):\n",
    "        print(classe[i], int(boxes[i,0]), int(boxes[i,1]),\n",
    "                        int(boxes[i,2]), int(boxes[i,3]))"
   ]
  },
  {
   "cell_type": "code",
   "execution_count": 20,
   "metadata": {},
   "outputs": [
    {
     "name": "stdout",
     "output_type": "stream",
     "text": [
      "Schistosoma 180 50 200 100\n",
      "Schistosoma 50 130 120 150\n"
     ]
    }
   ],
   "source": [
    "for i in range(np.asarray(boxes).shape[0]):\n",
    "        print(classe[i], img_90.shape[1]-int(boxes[i,2]), int(boxes[i,1]),\n",
    "                        img_90.shape[1]-int(boxes[i,0]), int(boxes[i,3]))"
   ]
  },
  {
   "cell_type": "code",
   "execution_count": 10,
   "metadata": {},
   "outputs": [
    {
     "data": {
      "text/plain": [
       "300"
      ]
     },
     "execution_count": 10,
     "metadata": {},
     "output_type": "execute_result"
    }
   ],
   "source": [
    "img_90.shape[0]"
   ]
  }
 ],
 "metadata": {
  "kernelspec": {
   "display_name": "Python 3 (ipykernel)",
   "language": "python",
   "name": "python3"
  },
  "language_info": {
   "codemirror_mode": {
    "name": "ipython",
    "version": 3
   },
   "file_extension": ".py",
   "mimetype": "text/x-python",
   "name": "python",
   "nbconvert_exporter": "python",
   "pygments_lexer": "ipython3",
   "version": "3.8.12"
  }
 },
 "nbformat": 4,
 "nbformat_minor": 4
}
